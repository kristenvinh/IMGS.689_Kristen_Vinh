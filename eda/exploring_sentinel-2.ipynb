{
 "cells": [
  {
   "cell_type": "code",
   "execution_count": 1,
   "id": "b8d4d688",
   "metadata": {},
   "outputs": [],
   "source": [
    "import numpy as np\n",
    "import matplotlib.pyplot as plt\n",
    "import cmocean"
   ]
  },
  {
   "cell_type": "code",
   "execution_count": 2,
   "id": "1bd73c2f",
   "metadata": {},
   "outputs": [
    {
     "data": {
      "text/plain": [
       "(954, 716, 12)"
      ]
     },
     "execution_count": 2,
     "metadata": {},
     "output_type": "execute_result"
    }
   ],
   "source": [
    "## Load in Sentinel-2\n",
    "data = np.load('sentinel2_rochester.npy')\n",
    "data.shape"
   ]
  },
  {
   "cell_type": "code",
   "execution_count": 5,
   "id": "0bfc0e54",
   "metadata": {},
   "outputs": [
    {
     "data": {
      "text/plain": [
       "0.25370000000000004"
      ]
     },
     "execution_count": 5,
     "metadata": {},
     "output_type": "execute_result"
    }
   ],
   "source": [
    "data[400,400,6]"
   ]
  },
  {
   "cell_type": "code",
   "execution_count": null,
   "id": "c33e18f4",
   "metadata": {},
   "outputs": [],
   "source": []
  }
 ],
 "metadata": {
  "kernelspec": {
   "display_name": "base",
   "language": "python",
   "name": "python3"
  },
  "language_info": {
   "codemirror_mode": {
    "name": "ipython",
    "version": 3
   },
   "file_extension": ".py",
   "mimetype": "text/x-python",
   "name": "python",
   "nbconvert_exporter": "python",
   "pygments_lexer": "ipython3",
   "version": "3.10.15"
  }
 },
 "nbformat": 4,
 "nbformat_minor": 5
}
